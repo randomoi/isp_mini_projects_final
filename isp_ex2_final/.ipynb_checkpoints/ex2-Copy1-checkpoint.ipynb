{
 "cells": [
  {
   "cell_type": "code",
   "execution_count": 5,
   "id": "46525463-b1fe-4e6e-b743-25f5930f6775",
   "metadata": {},
   "outputs": [
    {
     "name": "stdout",
     "output_type": "stream",
     "text": [
      "Requirement already satisfied: numpy in /Users/tech/anaconda3/lib/python3.10/site-packages (1.23.5)\n",
      "Requirement already satisfied: sounddevice in /Users/tech/anaconda3/lib/python3.10/site-packages (0.4.6)\n",
      "Requirement already satisfied: scipy in /Users/tech/anaconda3/lib/python3.10/site-packages (1.10.0)\n",
      "Requirement already satisfied: CFFI>=1.0 in /Users/tech/anaconda3/lib/python3.10/site-packages (from sounddevice) (1.15.1)\n",
      "Requirement already satisfied: pycparser in /Users/tech/anaconda3/lib/python3.10/site-packages (from CFFI>=1.0->sounddevice) (2.21)\n"
     ]
    }
   ],
   "source": [
    "!pip install numpy sounddevice scipy"
   ]
  },
  {
   "cell_type": "markdown",
   "id": "de4f0744-8b4a-4a3d-8e82-258b8ac56b95",
   "metadata": {},
   "source": [
    "# Reference:\n",
    "https://github.com/rimshasaeed/lossless-audio-encoder\n"
   ]
  },
  {
   "cell_type": "code",
   "execution_count": 15,
   "id": "c6943a82-1af2-4328-bbe2-6224cdead793",
   "metadata": {},
   "outputs": [],
   "source": [
    "import math\n",
    "\n",
    "# RICE ENCODER\n",
    "def rice_encoder(S, M):\n",
    "     # If sample value is negative, consider it positive\n",
    "     # and store signs separately\n",
    "    if S < 0:\n",
    "        S = -S\n",
    "        sign = \"-\"\n",
    "    else:\n",
    "        sign = \"+\"\n",
    "\n",
    "    # Compute K using equation, M = 2^K\n",
    "    K = int(math.ceil(math.log(M, 2)))\n",
    "\n",
    "    # For S, the number to be encoded, find q and r\n",
    "    quotient = int(math.floor(S / M))\n",
    "    remainder = S % M\n",
    "\n",
    "    # Generate codeword\n",
    "    q_code_str = \"\"\n",
    "    for i in range(quotient):\n",
    "        # Add 1 q number of times.\n",
    "        q_code_str += \"1\"\n",
    "\n",
    "    # Find the difference\n",
    "    diff = int(math.pow(2, K) - M)\n",
    "\n",
    "    # Write out r in binary\n",
    "    if (remainder < diff):\n",
    "     \tb = K - 1\n",
    "     \ta = \"{0:0\" + str(b) + \"b}\"\n",
    "     \tr_code_str = a.format(remainder)\n",
    "    else:\n",
    "     \tb = K\n",
    "     \ta = \"{0:0\" + str(b) + \"b}\"\n",
    "     \tr_code_str = a.format(remainder + diff)\n",
    "\n",
    "    # Encoded string\n",
    "    code_word = sign + q_code_str + \"0\" + str(r_code_str)\n",
    "\n",
    "    return code_word\n",
    "\n",
    "# RICE DECODER\n",
    "def rice_decoder(S, M):\n",
    "    # Separate the sign and K-bits binary\n",
    "    sign = S[0]\n",
    "    S = S[1:]\n",
    "\n",
    "    # Compute K using equation, M = 2^K\n",
    "    K = int(math.ceil(math.log(M, 2)))\n",
    "\n",
    "    # Separate q and r by spliting at the first 0\n",
    "    q_and_r_list = S.split('0', 1)\n",
    "\n",
    "    # Get quotient, q, by counting number of 1s before the first 0\n",
    "    q = len(q_and_r_list[0])\n",
    "\n",
    "    # Get remainder, r, by converting the next K-bits binary to decimal\n",
    "    r = int(q_and_r_list[1][:K], 2)\n",
    "\n",
    "    # Compute encoded number using q * M + r\n",
    "    S = q * M + r\n",
    "\n",
    "    # Change sign of the decoded bit\n",
    "    if sign == '-':\n",
    "        S = -S\n",
    "\n",
    "    return S\n"
   ]
  },
  {
   "cell_type": "code",
   "execution_count": 16,
   "id": "904eedc4-a3cc-4a77-be18-3136f46138e0",
   "metadata": {},
   "outputs": [
    {
     "name": "stdout",
     "output_type": "stream",
     "text": [
      "+1111111111010\n"
     ]
    }
   ],
   "source": [
    "encoded_value = rice_encoder(42, 4)\n",
    "print(encoded_value)\n"
   ]
  },
  {
   "cell_type": "code",
   "execution_count": 17,
   "id": "2db5bce6-e709-477e-910a-226918907bcf",
   "metadata": {},
   "outputs": [
    {
     "name": "stdout",
     "output_type": "stream",
     "text": [
      "42\n"
     ]
    }
   ],
   "source": [
    "decoded_value = rice_decoder(encoded_value, 4)\n",
    "print(decoded_value)\n"
   ]
  },
  {
   "cell_type": "code",
   "execution_count": 19,
   "id": "448d62bb-048e-4eaa-b444-af8791de79a0",
   "metadata": {},
   "outputs": [
    {
     "name": "stdout",
     "output_type": "stream",
     "text": [
      "Requirement already satisfied: numpy in /Users/tech/anaconda3/lib/python3.10/site-packages (1.23.5)\n",
      "Requirement already satisfied: sounddevice in /Users/tech/anaconda3/lib/python3.10/site-packages (0.4.6)\n",
      "Requirement already satisfied: scipy in /Users/tech/anaconda3/lib/python3.10/site-packages (1.10.0)\n",
      "Requirement already satisfied: CFFI>=1.0 in /Users/tech/anaconda3/lib/python3.10/site-packages (from sounddevice) (1.15.1)\n",
      "Requirement already satisfied: pycparser in /Users/tech/anaconda3/lib/python3.10/site-packages (from CFFI>=1.0->sounddevice) (2.21)\n",
      "Playing original audio...!\n",
      "Playing decoded audio...!\n"
     ]
    }
   ],
   "source": [
    "\n",
    "\n",
    "\n",
    "import numpy as np\n",
    "import sounddevice as sd\n",
    "from scipy.io import wavfile\n",
    "\n",
    "\n",
    "# Read the audio file to encode\n",
    "filepath = 'file/Sound1.wav'\n",
    "sample_rate, audio = wavfile.read(filepath)\n",
    "\n",
    "# Play original audio\n",
    "print('Playing original audio...!')\n",
    "sd.play(audio, sample_rate)\n",
    "\n",
    "# Encode the audio file and write as .exx2\n",
    "idx = filepath.find(\".wav\")\n",
    "encoded_file = filepath[:idx] + \"_Enc.ex2\"\n",
    "M = 4\n",
    "with open(encoded_file, 'wb') as codedfile:\n",
    "    for i in range(len(audio)):\n",
    "        e = rice_encoder(audio[i], M) + '\\n'\n",
    "        codedfile.write(e.encode())\n",
    "codedfile.close()\n",
    "\n",
    "# Decode the encoded audio file\n",
    "decoded_audio = []\n",
    "with open(encoded_file, 'rb') as codedfile:\n",
    "    for i in codedfile:\n",
    "        decoded_audio.append(rice_decoder(i.decode('utf8').strip(), M))\n",
    "codedfile.close()\n",
    "decoded_audio = np.array(decoded_audio, dtype='int16')\n",
    "\n",
    "# Play decoded audio\n",
    "print('Playing decoded audio...!')\n",
    "sd.play(decoded_audio, sample_rate)\n",
    "\n",
    "# Write decoded audio file in .wav format\n",
    "idx = encoded_file.find(\".ex2\")\n",
    "decoded_file = encoded_file[:idx] + \"_Dec.wav\"\n",
    "wavfile.write(decoded_file, sample_rate, decoded_audio)\n"
   ]
  },
  {
   "cell_type": "code",
   "execution_count": null,
   "id": "0de43b18-6706-448c-9e4e-ce4ddf655dd3",
   "metadata": {},
   "outputs": [],
   "source": []
  }
 ],
 "metadata": {
  "kernelspec": {
   "display_name": "Python 3 (ipykernel)",
   "language": "python",
   "name": "python3"
  },
  "language_info": {
   "codemirror_mode": {
    "name": "ipython",
    "version": 3
   },
   "file_extension": ".py",
   "mimetype": "text/x-python",
   "name": "python",
   "nbconvert_exporter": "python",
   "pygments_lexer": "ipython3",
   "version": "3.10.9"
  }
 },
 "nbformat": 4,
 "nbformat_minor": 5
}
